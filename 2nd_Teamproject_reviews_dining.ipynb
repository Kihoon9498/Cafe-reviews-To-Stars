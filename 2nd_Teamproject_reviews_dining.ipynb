{
 "cells": [
  {
   "cell_type": "code",
   "execution_count": 2,
   "id": "bda73a1f",
   "metadata": {},
   "outputs": [],
   "source": [
    "import selenium\n",
    "import pandas as pd\n",
    "from bs4 import BeautifulSoup\n",
    "import requests\n",
    "import numpy as np\n",
    "import time\n",
    "import json\n",
    "from tqdm import tqdm"
   ]
  },
  {
   "cell_type": "code",
   "execution_count": 3,
   "id": "5b725a7b",
   "metadata": {},
   "outputs": [],
   "source": [
    "from selenium import webdriver\n",
    "from selenium.webdriver.common.by import By\n",
    "from selenium.webdriver.common.keys import Keys\n",
    "from selenium.webdriver import ActionChains\n"
   ]
  },
  {
   "cell_type": "code",
   "execution_count": 26,
   "id": "6d7e0651",
   "metadata": {},
   "outputs": [
    {
     "name": "stderr",
     "output_type": "stream",
     "text": [
      "C:\\Users\\se686\\AppData\\Local\\Temp\\ipykernel_11820\\1459616300.py:7: DeprecationWarning: executable_path has been deprecated, please pass in a Service object\n",
      "  driver = webdriver.Chrome(executable_path = \"C:/Users/se686/Desktop/chromedriver_win32/chromedriver.exe\")\n"
     ]
    }
   ],
   "source": [
    "# 오늘의 집 셀레늄\n",
    "options = webdriver.ChromeOptions()\n",
    "options.add_argument('headless')\n",
    "\n",
    "# 검색 창 페이지\n",
    "search_url = 'https://store.ohou.se/ranks?type=best&category_id=10000000'\n",
    "driver = webdriver.Chrome(executable_path = \"C:/Users/se686/Desktop/chromedriver_win32/chromedriver.exe\")\n",
    "driver.implicitly_wait(30) \n",
    "driver.get(search_url)\n",
    "\n",
    "# 스크롤 내리기\n",
    "last_height = driver.execute_script(\"return document.body.scrollHeight\")\n",
    "\n",
    "while True:\n",
    "    # 끝까지 스크롤 다운\n",
    "    driver.execute_script(\"window.scrollTo(0, document.body.scrollHeight);\")\n",
    "    # 1초 대기\n",
    "    time.sleep(1)\n",
    "    # 스크롤 다운 후 스크롤 높이 다시 가져옴\n",
    "    new_height = driver.execute_script(\"return document.body.scrollHeight\")\n",
    "    if new_height == last_height:\n",
    "        break\n",
    "    last_height = new_height\n",
    "\n"
   ]
  },
  {
   "cell_type": "code",
   "execution_count": 25,
   "id": "8feb2549",
   "metadata": {},
   "outputs": [
    {
     "name": "stdout",
     "output_type": "stream",
     "text": [
      "<selenium.webdriver.remote.webelement.WebElement (session=\"96517ed82696ef4f7acd9903c8095a44\", element=\"e974ff62-b2d5-41ae-9b85-2f4db4b650e4\")>\n",
      "<selenium.webdriver.remote.webelement.WebElement (session=\"96517ed82696ef4f7acd9903c8095a44\", element=\"e974ff62-b2d5-41ae-9b85-2f4db4b650e4\")>\n"
     ]
    }
   ],
   "source": [
    "# 링크 추출\n",
    "product_links = []\n",
    "product_elements = driver.find_element(By.XPATH, '/html/body/div[1]/div[1]/div[5]/div/div[1]/article/a')\n",
    "print(product_elements)\n",
    "\n",
    "product_element = driver.find_element(By.XPATH, '/html/body/div[1]/div[1]/div[5]/div/div/article/a')\n",
    "print(product_element)"
   ]
  },
  {
   "cell_type": "code",
   "execution_count": 10,
   "id": "ae835b89",
   "metadata": {},
   "outputs": [
    {
     "name": "stderr",
     "output_type": "stream",
     "text": [
      "C:\\Users\\se686\\AppData\\Local\\Temp\\ipykernel_11820\\3236284728.py:7: DeprecationWarning: executable_path has been deprecated, please pass in a Service object\n",
      "  driver = webdriver.Chrome(executable_path = \"C:/Users/se686/Desktop/chromedriver_win32/chromedriver.exe\")\n"
     ]
    },
    {
     "name": "stdout",
     "output_type": "stream",
     "text": [
      "수집 완료\n",
      "['https://www.diningcode.com/profile.php?rid=gwMOA9twBJDG', 'https://www.diningcode.com/profile.php?rid=8UZqn4dn5naj', 'https://www.diningcode.com/profile.php?rid=BkUWWoRBmMxW', 'https://www.diningcode.com/profile.php?rid=kvhFvQegWELq', 'https://www.diningcode.com/profile.php?rid=TpMlBoL70Tge', 'https://www.diningcode.com/profile.php?rid=pSodx8SMq4wP', 'https://www.diningcode.com/profile.php?rid=JI0QtfXarLDr', 'https://www.diningcode.com/profile.php?rid=816eBLdd7tDQ', 'https://www.diningcode.com/profile.php?rid=w3vBm0us9VDH', 'https://www.diningcode.com/profile.php?rid=205chuT865Ip', 'https://www.diningcode.com/profile.php?rid=c9A6GfSJXHgn', 'https://www.diningcode.com/profile.php?rid=wM5hbKBtvtCW', 'https://www.diningcode.com/profile.php?rid=juk2SDq6Gu5c', 'https://www.diningcode.com/profile.php?rid=HLnHOjp0kjSr', 'https://www.diningcode.com/profile.php?rid=C4bft2Lj3Gpv', 'https://www.diningcode.com/profile.php?rid=ca0dNWL6brSv', 'https://www.diningcode.com/profile.php?rid=5yJwhbLhqGof', 'https://www.diningcode.com/profile.php?rid=3atngYtnD63I', 'https://www.diningcode.com/profile.php?rid=p0xEllOoW9NN', 'https://www.diningcode.com/profile.php?rid=JGYCbjbdyTV9', 'https://www.diningcode.com/profile.php?rid=3HbwNIeKWynk', 'https://www.diningcode.com/profile.php?rid=3BOv1ZjLuMDO', 'https://www.diningcode.com/profile.php?rid=dM98NxlvzQyY', 'https://www.diningcode.com/profile.php?rid=NhU5MkeCefeK', 'https://www.diningcode.com/profile.php?rid=5pbS5rO5WWB6', 'https://www.diningcode.com/profile.php?rid=NAOobsAVJQ2s', 'https://www.diningcode.com/profile.php?rid=JNFwMi3BRdgu', 'https://www.diningcode.com/profile.php?rid=mFF53CcxfgJM', 'https://www.diningcode.com/profile.php?rid=5Xj5QdLT7nLI', 'https://www.diningcode.com/profile.php?rid=aDGqKrgNJ0ci', 'https://www.diningcode.com/profile.php?rid=PLq8Vmno3fFT', 'https://www.diningcode.com/profile.php?rid=9oCzXE5bXqeG', 'https://www.diningcode.com/profile.php?rid=OZY6aFYa8OID', 'https://www.diningcode.com/profile.php?rid=Vnb2JAm62Hgt', 'https://www.diningcode.com/profile.php?rid=4jMH0WbcWkjQ', 'https://www.diningcode.com/profile.php?rid=cQSYIWRLYcuu', 'https://www.diningcode.com/profile.php?rid=D1I3ZrEhXAyN', 'https://www.diningcode.com/profile.php?rid=Pi75JYIp5TlJ', 'https://www.diningcode.com/profile.php?rid=MKPEDNiVR8BG', 'https://www.diningcode.com/profile.php?rid=Wjh1Zn9ByOAB', 'https://www.diningcode.com/profile.php?rid=8vkqhfOdqXWK', 'https://www.diningcode.com/profile.php?rid=We2c0aAAHvEK', 'https://www.diningcode.com/profile.php?rid=A1QDcuG9J7FZ', 'https://www.diningcode.com/profile.php?rid=6hLq1O7C3j6W', 'https://www.diningcode.com/profile.php?rid=voAUCReeQAoV', 'https://www.diningcode.com/profile.php?rid=APIm9O7bimsz', 'https://www.diningcode.com/profile.php?rid=tDiydPXXApi5', 'https://www.diningcode.com/profile.php?rid=PNJSxycSiniz', 'https://www.diningcode.com/profile.php?rid=n5TSSY69STrw', 'https://www.diningcode.com/profile.php?rid=PqcxisHIQDQV', 'https://www.diningcode.com/profile.php?rid=cPJT1MHcQV1T', 'https://www.diningcode.com/profile.php?rid=Oa2jG7262AEG', 'https://www.diningcode.com/profile.php?rid=qkv9qlySQPkX', 'https://www.diningcode.com/profile.php?rid=34oFAXa3a8UE', 'https://www.diningcode.com/profile.php?rid=vDbSmd2RaNlI', 'https://www.diningcode.com/profile.php?rid=4jAaMPx2y5v1', 'https://www.diningcode.com/profile.php?rid=a3p5II0KMDSf', 'https://www.diningcode.com/profile.php?rid=nFTIOwxxp8sT', 'https://www.diningcode.com/profile.php?rid=XJR57jvCi0YV', 'https://www.diningcode.com/profile.php?rid=Tmhd0ghzqQak', 'https://www.diningcode.com/profile.php?rid=nbS3GcgX3zNx', 'https://www.diningcode.com/profile.php?rid=qXFHJFud3jxK', 'https://www.diningcode.com/profile.php?rid=MwSjucFBsdLf', 'https://www.diningcode.com/profile.php?rid=Lt2fajqGwS2C', 'https://www.diningcode.com/profile.php?rid=4yccMSff8J3D', 'https://www.diningcode.com/profile.php?rid=f8KRI3nyBldk', 'https://www.diningcode.com/profile.php?rid=afI3gSaEOniW', 'https://www.diningcode.com/profile.php?rid=6s3MKJFhU7jh', 'https://www.diningcode.com/profile.php?rid=8YI9kly3nYI3', 'https://www.diningcode.com/profile.php?rid=FXztGN2TP8Lf', 'https://www.diningcode.com/profile.php?rid=U6wLdbZuX264', 'https://www.diningcode.com/profile.php?rid=P030NiTwang8', 'https://www.diningcode.com/profile.php?rid=MU8wcu5nPjOl', 'https://www.diningcode.com/profile.php?rid=mDG9eVO0E5y7', 'https://www.diningcode.com/profile.php?rid=TUp8DZFvhS2l', 'https://www.diningcode.com/profile.php?rid=1BsYLlE0yps8', 'https://www.diningcode.com/profile.php?rid=dvEMIssfmNMD', 'https://www.diningcode.com/profile.php?rid=96zGdiJ3Ur0X', 'https://www.diningcode.com/profile.php?rid=Dil6CHTNK8WC', 'https://www.diningcode.com/profile.php?rid=Pc9MfNFJuaE3', 'https://www.diningcode.com/profile.php?rid=3mso11FcH58A', 'https://www.diningcode.com/profile.php?rid=4ENJJpVDVjnR', 'https://www.diningcode.com/profile.php?rid=KL2KARtLRhJa', 'https://www.diningcode.com/profile.php?rid=TrlEABcNpj8Z', 'https://www.diningcode.com/profile.php?rid=8McGWlVSgYZS', 'https://www.diningcode.com/profile.php?rid=uxH65S8TLRlu', 'https://www.diningcode.com/profile.php?rid=4nuOnodBgyyX', 'https://www.diningcode.com/profile.php?rid=KqcuoJgsrSwo', 'https://www.diningcode.com/profile.php?rid=RunUugSbk0YZ', 'https://www.diningcode.com/profile.php?rid=U9C8OVgGVWwF', 'https://www.diningcode.com/profile.php?rid=9bJfvsmXMZru', 'https://www.diningcode.com/profile.php?rid=H5cuwrgS57PY', 'https://www.diningcode.com/profile.php?rid=cCHulJwX1WO4', 'https://www.diningcode.com/profile.php?rid=66uDF2sIm4pM', 'https://www.diningcode.com/profile.php?rid=2aNU80Ah3js8', 'https://www.diningcode.com/profile.php?rid=UmrLlXGMDMSR', 'https://www.diningcode.com/profile.php?rid=EmjHm84tajyR', 'https://www.diningcode.com/profile.php?rid=W1jEBBuhBg2S', 'https://www.diningcode.com/profile.php?rid=H8E0HFSxjjNv', 'https://www.diningcode.com/profile.php?rid=cp4UbMjg3NZh'] 100\n"
     ]
    }
   ],
   "source": [
    "# 다이닝코드 셀레늄\n",
    "options = webdriver.ChromeOptions()\n",
    "options.add_argument('headless')\n",
    "\n",
    "# 검색 창 페이지\n",
    "search_url = 'https://www.diningcode.com/search.dc?'\n",
    "driver = webdriver.Chrome(executable_path = \"C:/Users/se686/Desktop/chromedriver_win32/chromedriver.exe\")\n",
    "driver.implicitly_wait(10) \n",
    "driver.get(search_url)\n",
    "\n",
    "# '**역 카페' 검색 + Enter\n",
    "search_element = driver.find_element(By.XPATH, '//*[@id=\"root\"]/div/header/div/div/div[2]/div/input')\n",
    "search_element.send_keys('성수역 카페' + Keys.ENTER)\n",
    "\n",
    "# 검색 결과 더보기 클릭!\n",
    "more_btn_element = driver.find_element(By.XPATH, '//*[@id=\"root\"]/div/main/div[2]/div[3]/div/button')\n",
    "more_btn_element.click()\n",
    "\n",
    "# 예외 처리로 카페 리스트 늘리기\n",
    "try:\n",
    "    for i in range(10):\n",
    "        more_element = driver.find_element(By.CLASS_NAME, 'SearchMore.upper')\n",
    "        more_element.click()\n",
    "except:\n",
    "    print('수집 완료')\n",
    "    pass\n",
    "\n",
    "# 1 to 100 카페 링크 가져오기\n",
    "# get_attribute -> html 무언가 얻어오기\n",
    "cafe_urls = []\n",
    "soup_source = driver.find_elements(By.XPATH,'/html/body/div/div/div[1]/div[3]/ol/li/div[1]')\n",
    "for source in soup_source:\n",
    "    cafe_urls.append('https://www.diningcode.com/profile.php?rid=' + source.get_attribute('id')[5:])\n",
    "\n",
    "print(cafe_urls, len(cafe_urls))"
   ]
  },
  {
   "cell_type": "code",
   "execution_count": 15,
   "id": "ea8336dc",
   "metadata": {},
   "outputs": [
    {
     "name": "stderr",
     "output_type": "stream",
     "text": [
      "  0%|                                                                                            | 0/1 [00:00<?, ?it/s]C:\\Users\\se686\\AppData\\Local\\Temp\\ipykernel_5720\\2221704787.py:8: DeprecationWarning: executable_path has been deprecated, please pass in a Service object\n",
      "  cafe_driver = webdriver.Chrome(executable_path = \"C:/Users/se686/Desktop/chromedriver_win32/chromedriver.exe\")\n",
      "100%|████████████████████████████████████████████████████████████████████████████████████| 1/1 [00:07<00:00,  7.71s/it]\n"
     ]
    }
   ],
   "source": [
    "# 수집한 카페 링크로 반복\n",
    "review = []\n",
    "score = []\n",
    "options = webdriver.ChromeOptions()\n",
    "options.add_argument('headless')\n",
    "\n",
    "for cafe_url in tqdm(cafe_urls):\n",
    "    cafe_driver = webdriver.Chrome(executable_path = \"C:/Users/se686/Desktop/chromedriver_win32/chromedriver.exe\")\n",
    "    cafe_driver.get(cafe_url)\n",
    "    time.sleep(1)\n",
    "    # 리뷰 더보기 클릭!\n",
    "    try:\n",
    "        while True:\n",
    "            review_btn_element = cafe_driver.find_element(By.ID, 'div_more_review')\n",
    "            review_btn_element.click()\n",
    "    except:\n",
    "        pass\n",
    "    # 카페별 리뷰 크롤링\n",
    "    reviews = cafe_driver.find_elements(By.CLASS_NAME,'review_contents.btxt')\n",
    "    for re in reviews:\n",
    "        review.append(re.text.replace('\\n',' '))\n",
    "    # 평점 불러오기 - BeautifulSoup 이용..?\n",
    "    soup = BeautifulSoup(cafe_driver.page_source, 'html.parser')\n",
    "    for star in soup.select('i.star i'):\n",
    "        score.append(int(star['style'].split(':')[1].split('%')[0]) // 20)\n",
    "\n",
    "df_reviews = pd.DataFrame(zip(review, score), columns = ['Review', 'Score'])\n",
    "df_reviews.to_csv('C:/Users/se686/Desktop/2nd_project_reviews/blue_bottle.csv', encoding='utf-8-sig')"
   ]
  }
 ],
 "metadata": {
  "kernelspec": {
   "display_name": "Alpaco",
   "language": "python",
   "name": "testenv"
  },
  "language_info": {
   "codemirror_mode": {
    "name": "ipython",
    "version": 3
   },
   "file_extension": ".py",
   "mimetype": "text/x-python",
   "name": "python",
   "nbconvert_exporter": "python",
   "pygments_lexer": "ipython3",
   "version": "3.9.16"
  }
 },
 "nbformat": 4,
 "nbformat_minor": 5
}
